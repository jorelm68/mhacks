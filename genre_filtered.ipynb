{
 "cells": [
  {
   "cell_type": "code",
   "execution_count": 1,
   "id": "1b7b02f3-d580-4bc9-af49-beb601ddf846",
   "metadata": {},
   "outputs": [
    {
     "name": "stderr",
     "output_type": "stream",
     "text": [
      "/tmp/ipykernel_58661/2184389093.py:1: DeprecationWarning: \n",
      "Pyarrow will become a required dependency of pandas in the next major release of pandas (pandas 3.0),\n",
      "(to allow more performant data types, such as the Arrow string type, and better interoperability with other libraries)\n",
      "but was not found to be installed on your system.\n",
      "If this would cause problems for you,\n",
      "please provide us feedback at https://github.com/pandas-dev/pandas/issues/54466\n",
      "        \n",
      "  import pandas as pd\n"
     ]
    }
   ],
   "source": [
    "import pandas as pd\n",
    "import numpy as np\n",
    "import ast\n",
    "from ast import literal_eval\n",
    "import arrow\n",
    "from sklearn.neighbors import NearestNeighbors\n",
    "import joblib"
   ]
  },
  {
   "cell_type": "code",
   "execution_count": 2,
   "id": "0aed0f7c-ebb7-41b5-bc7b-1d4acead88f1",
   "metadata": {},
   "outputs": [
    {
     "data": {
      "text/plain": [
       "0        [acid house,ambient house,big beat,hip house]\n",
       "1                        [dance pop,miami hip hop,pop]\n",
       "2                                      [dance pop,pop]\n",
       "3    [album rock,art rock,british invasion,classic ...\n",
       "4      [album rock,british invasion,classic rock,rock]\n",
       "Name: Artist Genres, dtype: object"
      ]
     },
     "execution_count": 2,
     "metadata": {},
     "output_type": "execute_result"
    }
   ],
   "source": [
    "df = pd.read_csv(\"songs_data.csv\", sep=',', converters={'Artist Genres': lambda x: x.split(\", \")}, keep_default_na=False)\n",
    "df[\"Artist Genres\"].head()"
   ]
  },
  {
   "cell_type": "code",
   "execution_count": 3,
   "id": "e59c6652-f77d-4e45-889d-2580f282c75f",
   "metadata": {},
   "outputs": [],
   "source": [
    "#extract simpler genres\n",
    "genres = ['pop', 'rock', 'hip hop', \"house\", \"disco\", \"soul\", \"r&b\"]\n",
    "song_genres = []\n",
    "for i in range(0, df.shape[0]):\n",
    "    row = str(df[\"Artist Genres\"].values[i][0])\n",
    "    song_genres.append('')\n",
    "    for g in genres:\n",
    "        if row.find(g) != -1:\n",
    "            song_genres[i] = g\n",
    "            break\n",
    "\n",
    "df[\"Genre\"] = song_genres\n",
    "df_all = pd.read_csv(\"songs_data.csv\")\n",
    "df_all[\"Genre\"] = song_genres\n",
    "df_all[\"Index\"] = df_all.index"
   ]
  },
  {
   "cell_type": "code",
   "execution_count": 4,
   "id": "3c1f1356-f999-4f0a-a4e0-28758590cded",
   "metadata": {},
   "outputs": [
    {
     "name": "stdout",
     "output_type": "stream",
     "text": [
      "['Popularity', 'Danceability', 'Energy', 'Loudness', 'Speechiness', 'Acousticness', 'Instrumentalness', 'Liveness', 'Tempo', 'Valence', 'Album Release Date', 'Index']\n"
     ]
    }
   ],
   "source": [
    "included_variables = [\"Popularity\", \"Danceability\",\"Energy\",\"Loudness\",\"Speechiness\",\"Acousticness\",\"Instrumentalness\",\"Liveness\",\"Tempo\",\"Valence\", \"Album Release Date\"]\n",
    "indy_included = included_variables + [\"Index\"]\n",
    "print(indy_included)"
   ]
  },
  {
   "cell_type": "code",
   "execution_count": 5,
   "id": "06e45604-dec3-4b07-af80-2b80f4303c57",
   "metadata": {},
   "outputs": [
    {
     "name": "stdout",
     "output_type": "stream",
     "text": [
      "0       1992-08-03\n",
      "1       2009-10-23\n",
      "2       1999-01-12\n",
      "3       2014-10-20\n",
      "4       1969-12-05\n",
      "           ...    \n",
      "9994    2022-06-17\n",
      "9995    2005-10-24\n",
      "9996    2000-08-14\n",
      "9997    2023-01-06\n",
      "9998    2023-05-19\n",
      "Name: Album Release Date, Length: 9999, dtype: object\n",
      "0        712800000000000000\n",
      "1       1256256000000000000\n",
      "2        916099200000000000\n",
      "3       1413763200000000000\n",
      "4         -2332800000000000\n",
      "               ...         \n",
      "9994    1655424000000000000\n",
      "9995    1130112000000000000\n",
      "9996     966211200000000000\n",
      "9997    1672963200000000000\n",
      "9998    1684454400000000000\n",
      "Name: Album Release Date, Length: 9999, dtype: int64\n"
     ]
    },
    {
     "name": "stderr",
     "output_type": "stream",
     "text": [
      "/tmp/ipykernel_58661/2907213110.py:2: FutureWarning: Series.view is deprecated and will be removed in a future version. Use ``astype`` as an alternative to change the dtype.\n",
      "  df_all[\"Album Release Date\"] = pd.to_datetime(df_all[\"Album Release Date\"], format=\"mixed\",  errors='coerce').view('int64')\n"
     ]
    }
   ],
   "source": [
    "print(df_all[\"Album Release Date\"])\n",
    "df_all[\"Album Release Date\"] = pd.to_datetime(df_all[\"Album Release Date\"], format=\"mixed\",  errors='coerce').view('int64') \n",
    "print(df_all[\"Album Release Date\"])"
   ]
  },
  {
   "cell_type": "code",
   "execution_count": 6,
   "id": "dc602a20-cd6c-4a07-930a-e470fd4ef0c9",
   "metadata": {},
   "outputs": [],
   "source": [
    "def clean_and_norm(df_in):\n",
    "    #normalize the data\n",
    "    df_ints = pd.DataFrame(df_in, columns = indy_included)\n",
    "    \n",
    "    normed=(df_ints-df_ints.mean())/df_ints.std()\n",
    "    normed=(df_ints-df_ints.min())/(df_ints.max()-df_ints.min())\n",
    "\n",
    "    #clean data\n",
    "    for column in indy_included:\n",
    "        mean = float(normed[column].mean(skipna = True))\n",
    "        normed[column] = normed[column].replace(np.NaN, mean)\n",
    "    return normed"
   ]
  },
  {
   "cell_type": "code",
   "execution_count": 7,
   "id": "0eb2a5de-e4f9-425d-9e7b-4a1e885758e6",
   "metadata": {},
   "outputs": [],
   "source": [
    "def knn_fit(name, data):\n",
    "    #clean data\n",
    "    normed = clean_and_norm(data)\n",
    "\n",
    "    #grab normed data with only included variables\n",
    "    train_data = pd.DataFrame(normed, columns = included_variables)\n",
    "    train_data = train_data.iloc[1:,]\n",
    "    \n",
    "    knn = NearestNeighbors(metric='euclidean', algorithm='auto')\n",
    "    knn.fit(train_data)\n",
    "\n",
    "    song_i = int(data[\"Index\"].iloc[0]) \n",
    "    test = pd.DataFrame(data, columns = included_variables)\n",
    "    test = test.iloc[song_i:song_i+1:,]\n",
    "\n",
    "    distances, indices = knn.kneighbors(test, n_neighbors=3)\n",
    "    \n",
    "    print(data[\"Track Name\"].iloc[song_i], \"by\", data[\"Artist Name(s)\"].iloc[song_i])\n",
    "    print()\n",
    "    print(\"Closest to:\")\n",
    "    \n",
    "    for ind in indices[0]:\n",
    "        print(data[\"Track Name\"].iloc[ind + 1], \"by\", data[\"Artist Name(s)\"].iloc[ind + 1])\n",
    "    print()\n",
    "\n",
    "    # save that model uh huh uh huh\n",
    "    # load via: https://datascience.stackexchange.com/questions/52704/how-to-save-a-knn-model\n",
    "    # joblib.dump(knn, name)"
   ]
  },
  {
   "cell_type": "code",
   "execution_count": 14,
   "id": "49b3fad9-5d78-4874-8b3c-44c3d0b27799",
   "metadata": {},
   "outputs": [],
   "source": [
    "def move_knn(data, query, variable, direction):\n",
    "    #clean data\n",
    "    normed = clean_and_norm(data)\n",
    "\n",
    "    #grab normed data with only included variables\n",
    "    train_data = pd.DataFrame(normed, columns = included_variables)\n",
    "    \n",
    "    knn = NearestNeighbors(metric='euclidean', algorithm='auto')\n",
    "    knn.fit(train_data)\n",
    "\n",
    "    query_stripped = pd.DataFrame(normed, columns = included_variables)\n",
    "    distances, indices = knn.kneighbors(query_stripped, n_neighbors=3)\n",
    "\n",
    "    print(\"Input Song:\")\n",
    "    print(query[\"Track Name\"], \"by\", query[\"Artist Name(s)\"])\n",
    "\n",
    "    # where are we going good sir\n",
    "    direction_str = \"more\"\n",
    "    if direction == 0: direction_str = \"less\"\n",
    "\n",
    "    print(\"Our output has\", direction_str, variable, \"than our input:\")\n",
    "    ind = indices[0][0]\n",
    "    print(data[\"Track Name\"].iloc[ind + 1], \"by\", data[\"Artist Name(s)\"].iloc[ind + 1])\n",
    "    print()"
   ]
  },
  {
   "cell_type": "code",
   "execution_count": 12,
   "id": "b544205d-a880-405e-9ec5-9fc50a02f52b",
   "metadata": {},
   "outputs": [],
   "source": [
    "def move_along(data, query_point, variable, direction):\n",
    "    '''Data = input data (should be genre specific)\n",
    "    query_point = current song\n",
    "    variable = what are we changing? Acousticness? Loudness?\n",
    "    direction = up/down (1 = up, 0 = down)'''\n",
    "    filtered_data = data[data[variable].iloc[:,] > query_point[variable]]\n",
    "    if direction == 0:    \n",
    "        filtered_data = data[data[variable].iloc[:,] < query_point[variable]]\n",
    "    \n",
    "    # Ensure there is at least one point left after filtering\n",
    "    if len(filtered_data) == 0:\n",
    "        print(\"No neighbors found with a higher\", variable,\"value than the query point.\")\n",
    "    else:\n",
    "        move_knn(filtered_data, query_point, variable, direction)"
   ]
  },
  {
   "cell_type": "code",
   "execution_count": 15,
   "id": "18c214e9-8e17-4b64-a673-3599c41dac8b",
   "metadata": {},
   "outputs": [
    {
     "name": "stdout",
     "output_type": "stream",
     "text": [
      "Input Song:\n",
      "Something About The Way You Look Tonight - Edit Version by Elton John\n",
      "Our output has more Acousticness than our input:\n",
      "You Can't Always Get What You Want by The Rolling Stones\n",
      "\n"
     ]
    }
   ],
   "source": [
    "genre = \"rock\"\n",
    "g_data = df_all[df_all['Genre'] == genre]\n",
    "\n",
    "song_i = int(g_data[\"Index\"].iloc[0]) \n",
    "query_point = g_data.iloc[song_i]\n",
    "\n",
    "move_along(g_data, query_point, \"Acousticness\", 1)"
   ]
  },
  {
   "cell_type": "code",
   "execution_count": null,
   "id": "4a054f5f-fa16-4ef2-ba3c-0927d44738f6",
   "metadata": {},
   "outputs": [],
   "source": [
    "for genre in genres:\n",
    "    print(genre)\n",
    "    g_data = df_all[df_all['Genre'] == genre]\n",
    "    name = genre + \".pkl\"\n",
    "    knn_fit(name, g_data)\n",
    "    print(\"------------------------\")"
   ]
  }
 ],
 "metadata": {
  "kernelspec": {
   "display_name": "Python 3 (ipykernel)",
   "language": "python",
   "name": "python3"
  },
  "language_info": {
   "codemirror_mode": {
    "name": "ipython",
    "version": 3
   },
   "file_extension": ".py",
   "mimetype": "text/x-python",
   "name": "python",
   "nbconvert_exporter": "python",
   "pygments_lexer": "ipython3",
   "version": "3.9.18"
  }
 },
 "nbformat": 4,
 "nbformat_minor": 5
}
